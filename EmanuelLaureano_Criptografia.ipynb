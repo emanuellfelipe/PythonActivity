{
  "cells": [
    {
      "cell_type": "markdown",
      "metadata": {
        "id": "view-in-github",
        "colab_type": "text"
      },
      "source": [
        "<a href=\"https://colab.research.google.com/github/emanuellfelipe/PythonActivity/blob/main/EmanuelLaureano_Criptografia.ipynb\" target=\"_parent\"><img src=\"https://colab.research.google.com/assets/colab-badge.svg\" alt=\"Open In Colab\"/></a>"
      ]
    },
    {
      "cell_type": "code",
      "execution_count": null,
      "metadata": {
        "colab": {
          "background_save": true
        },
        "id": "ngP8dVh2o01K"
      },
      "outputs": [],
      "source": [
        "# Atividade 1 de Criptografia\n",
        "\n",
        "def limpar_texto():\n",
        "    texto = input(\"Digite o texto que você deseja limpar: \")\n",
        "    acentos = {\n",
        "        'á': 'a', 'à': 'a', 'ã': 'a', 'â': 'a', 'ä': 'a',\n",
        "        'é': 'e', 'è': 'e', 'ê': 'e', 'ë': 'e',\n",
        "        'í': 'i', 'ì': 'i', 'î': 'i', 'ï': 'i',\n",
        "        'ó': 'o', 'ò': 'o', 'ô': 'o', 'õ': 'o', 'ö': 'o',\n",
        "        'ú': 'u', 'ù': 'u', 'û': 'u', 'ü': 'u',\n",
        "        'ç': 'c',\n",
        "    }\n",
        "    texto = ''.join(acentos.get(c, c) for c in texto.lower())\n",
        "    texto = ''.join(c for c in texto if 'a' <= c <= 'z')\n",
        "    print(\"Texto limpo: \", texto)\n",
        "\n",
        "limpar_texto()\n"
      ]
    },
    {
      "cell_type": "code",
      "execution_count": null,
      "metadata": {
        "colab": {
          "background_save": true
        },
        "id": "auzq5dVdWV9Z"
      },
      "outputs": [],
      "source": []
    }
  ],
  "metadata": {
    "colab": {
      "provenance": [],
      "authorship_tag": "ABX9TyPWfJMQnD5H6khWicIctM+4",
      "include_colab_link": true
    },
    "kernelspec": {
      "display_name": "Python 3",
      "name": "python3"
    },
    "language_info": {
      "name": "python"
    }
  },
  "nbformat": 4,
  "nbformat_minor": 0
}